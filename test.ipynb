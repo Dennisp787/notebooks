{
    "cells": [
        {
            "cell_type": "markdown",
            "metadata": {},
            "source": "Test, Weather Data"
        },
        {
            "cell_type": "code",
            "execution_count": 1,
            "metadata": {},
            "outputs": [
                {
                    "data": {
                        "text/html": "<div>\n<style scoped>\n    .dataframe tbody tr th:only-of-type {\n        vertical-align: middle;\n    }\n\n    .dataframe tbody tr th {\n        vertical-align: top;\n    }\n\n    .dataframe thead th {\n        text-align: right;\n    }\n</style>\n<table border=\"1\" class=\"dataframe\">\n  <thead>\n    <tr style=\"text-align: right;\">\n      <th></th>\n      <th>STATION</th>\n      <th>STATION_NAME</th>\n      <th>DATE</th>\n      <th>DLY-CLDD-BASE45</th>\n      <th>Completeness Flag</th>\n      <th>DLY-CLDD-BASE50</th>\n      <th>Completeness Flag.1</th>\n      <th>DLY-CLDD-BASE55</th>\n      <th>Completeness Flag.2</th>\n      <th>DLY-CLDD-BASE57</th>\n      <th>...</th>\n      <th>DLY-HTDD-BASE50</th>\n      <th>Completeness Flag.10</th>\n      <th>DLY-HTDD-BASE55</th>\n      <th>Completeness Flag.11</th>\n      <th>DLY-HTDD-BASE57</th>\n      <th>Completeness Flag.12</th>\n      <th>DLY-HTDD-BASE60</th>\n      <th>Completeness Flag.13</th>\n      <th>DLY-HTDD-NORMAL</th>\n      <th>Completeness Flag.14</th>\n    </tr>\n  </thead>\n  <tbody>\n    <tr>\n      <th>0</th>\n      <td>GHCND:USW00094728</td>\n      <td>NY CITY CENTRAL PARK NY US</td>\n      <td>20100101</td>\n      <td>-7777</td>\n      <td>C</td>\n      <td>-7777</td>\n      <td>C</td>\n      <td>-7777</td>\n      <td>C</td>\n      <td>-7777</td>\n      <td>...</td>\n      <td>17</td>\n      <td>C</td>\n      <td>22</td>\n      <td>C</td>\n      <td>24</td>\n      <td>C</td>\n      <td>27</td>\n      <td>C</td>\n      <td>32</td>\n      <td>C</td>\n    </tr>\n    <tr>\n      <th>1</th>\n      <td>GHCND:USW00094728</td>\n      <td>NY CITY CENTRAL PARK NY US</td>\n      <td>20100102</td>\n      <td>-7777</td>\n      <td>C</td>\n      <td>-7777</td>\n      <td>C</td>\n      <td>-7777</td>\n      <td>C</td>\n      <td>-7777</td>\n      <td>...</td>\n      <td>17</td>\n      <td>C</td>\n      <td>22</td>\n      <td>C</td>\n      <td>24</td>\n      <td>C</td>\n      <td>27</td>\n      <td>C</td>\n      <td>32</td>\n      <td>C</td>\n    </tr>\n    <tr>\n      <th>2</th>\n      <td>GHCND:USW00094728</td>\n      <td>NY CITY CENTRAL PARK NY US</td>\n      <td>20100103</td>\n      <td>-7777</td>\n      <td>C</td>\n      <td>-7777</td>\n      <td>C</td>\n      <td>-7777</td>\n      <td>C</td>\n      <td>-7777</td>\n      <td>...</td>\n      <td>17</td>\n      <td>C</td>\n      <td>22</td>\n      <td>C</td>\n      <td>24</td>\n      <td>C</td>\n      <td>27</td>\n      <td>C</td>\n      <td>32</td>\n      <td>C</td>\n    </tr>\n    <tr>\n      <th>3</th>\n      <td>GHCND:USW00094728</td>\n      <td>NY CITY CENTRAL PARK NY US</td>\n      <td>20100104</td>\n      <td>-7777</td>\n      <td>C</td>\n      <td>-7777</td>\n      <td>C</td>\n      <td>-7777</td>\n      <td>C</td>\n      <td>-7777</td>\n      <td>...</td>\n      <td>17</td>\n      <td>C</td>\n      <td>22</td>\n      <td>C</td>\n      <td>24</td>\n      <td>C</td>\n      <td>27</td>\n      <td>C</td>\n      <td>32</td>\n      <td>C</td>\n    </tr>\n    <tr>\n      <th>4</th>\n      <td>GHCND:USW00094728</td>\n      <td>NY CITY CENTRAL PARK NY US</td>\n      <td>20100105</td>\n      <td>-7777</td>\n      <td>C</td>\n      <td>-7777</td>\n      <td>C</td>\n      <td>-7777</td>\n      <td>C</td>\n      <td>-7777</td>\n      <td>...</td>\n      <td>17</td>\n      <td>C</td>\n      <td>22</td>\n      <td>C</td>\n      <td>24</td>\n      <td>C</td>\n      <td>27</td>\n      <td>C</td>\n      <td>32</td>\n      <td>C</td>\n    </tr>\n  </tbody>\n</table>\n<p>5 rows \u00d7 33 columns</p>\n</div>",
                        "text/plain": "             STATION                STATION_NAME      DATE  DLY-CLDD-BASE45  \\\n0  GHCND:USW00094728  NY CITY CENTRAL PARK NY US  20100101            -7777   \n1  GHCND:USW00094728  NY CITY CENTRAL PARK NY US  20100102            -7777   \n2  GHCND:USW00094728  NY CITY CENTRAL PARK NY US  20100103            -7777   \n3  GHCND:USW00094728  NY CITY CENTRAL PARK NY US  20100104            -7777   \n4  GHCND:USW00094728  NY CITY CENTRAL PARK NY US  20100105            -7777   \n\n  Completeness Flag  DLY-CLDD-BASE50 Completeness Flag.1  DLY-CLDD-BASE55  \\\n0                 C            -7777                   C            -7777   \n1                 C            -7777                   C            -7777   \n2                 C            -7777                   C            -7777   \n3                 C            -7777                   C            -7777   \n4                 C            -7777                   C            -7777   \n\n  Completeness Flag.2  DLY-CLDD-BASE57  ... DLY-HTDD-BASE50  \\\n0                   C            -7777  ...              17   \n1                   C            -7777  ...              17   \n2                   C            -7777  ...              17   \n3                   C            -7777  ...              17   \n4                   C            -7777  ...              17   \n\n   Completeness Flag.10 DLY-HTDD-BASE55  Completeness Flag.11 DLY-HTDD-BASE57  \\\n0                     C              22                     C              24   \n1                     C              22                     C              24   \n2                     C              22                     C              24   \n3                     C              22                     C              24   \n4                     C              22                     C              24   \n\n   Completeness Flag.12 DLY-HTDD-BASE60  Completeness Flag.13 DLY-HTDD-NORMAL  \\\n0                     C              27                     C              32   \n1                     C              27                     C              32   \n2                     C              27                     C              32   \n3                     C              27                     C              32   \n4                     C              27                     C              32   \n\n   Completeness Flag.14  \n0                     C  \n1                     C  \n2                     C  \n3                     C  \n4                     C  \n\n[5 rows x 33 columns]"
                    },
                    "execution_count": 1,
                    "metadata": {},
                    "output_type": "execute_result"
                }
            ],
            "source": "# The code was removed by Watson Studio for sharing."
        },
        {
            "cell_type": "code",
            "execution_count": null,
            "metadata": {},
            "outputs": [],
            "source": ""
        }
    ],
    "metadata": {
        "kernelspec": {
            "display_name": "Python 3.6",
            "language": "python",
            "name": "python3"
        },
        "language_info": {
            "codemirror_mode": {
                "name": "ipython",
                "version": 3
            },
            "file_extension": ".py",
            "mimetype": "text/x-python",
            "name": "python",
            "nbconvert_exporter": "python",
            "pygments_lexer": "ipython3",
            "version": "3.6.9"
        }
    },
    "nbformat": 4,
    "nbformat_minor": 1
}